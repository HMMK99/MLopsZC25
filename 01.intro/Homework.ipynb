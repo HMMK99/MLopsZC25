{
 "cells": [
  {
   "cell_type": "code",
   "execution_count": 1,
   "metadata": {},
   "outputs": [
    {
     "name": "stdout",
     "output_type": "stream",
     "text": [
      "Requirement already satisfied: pandas in /home/codespace/anaconda3/lib/python3.9/site-packages (1.4.2)\n",
      "Requirement already satisfied: python-dateutil>=2.8.1 in /home/codespace/anaconda3/lib/python3.9/site-packages (from pandas) (2.8.2)\n",
      "Requirement already satisfied: pytz>=2020.1 in /home/codespace/anaconda3/lib/python3.9/site-packages (from pandas) (2021.3)\n",
      "Requirement already satisfied: numpy>=1.18.5 in /home/codespace/anaconda3/lib/python3.9/site-packages (from pandas) (1.21.5)\n",
      "Requirement already satisfied: six>=1.5 in /home/codespace/anaconda3/lib/python3.9/site-packages (from python-dateutil>=2.8.1->pandas) (1.16.0)\n"
     ]
    }
   ],
   "source": [
    "!pip install pandas"
   ]
  },
  {
   "cell_type": "code",
   "execution_count": 2,
   "metadata": {},
   "outputs": [
    {
     "name": "stdout",
     "output_type": "stream",
     "text": [
      "Requirement already satisfied: pyarrow in /home/codespace/anaconda3/lib/python3.9/site-packages (20.0.0)\r\n"
     ]
    }
   ],
   "source": [
    "!pip install pyarrow"
   ]
  },
  {
   "cell_type": "code",
   "execution_count": 3,
   "metadata": {},
   "outputs": [
    {
     "name": "stdout",
     "output_type": "stream",
     "text": [
      "Requirement already satisfied: scikit-learn in /home/codespace/anaconda3/lib/python3.9/site-packages (1.0.2)\n",
      "Requirement already satisfied: threadpoolctl>=2.0.0 in /home/codespace/anaconda3/lib/python3.9/site-packages (from scikit-learn) (2.2.0)\n",
      "Requirement already satisfied: scipy>=1.1.0 in /home/codespace/anaconda3/lib/python3.9/site-packages (from scikit-learn) (1.7.3)\n",
      "Requirement already satisfied: numpy>=1.14.6 in /home/codespace/anaconda3/lib/python3.9/site-packages (from scikit-learn) (1.21.5)\n",
      "Requirement already satisfied: joblib>=0.11 in /home/codespace/anaconda3/lib/python3.9/site-packages (from scikit-learn) (1.1.0)\n"
     ]
    }
   ],
   "source": [
    "!pip install scikit-learn"
   ]
  },
  {
   "cell_type": "code",
   "execution_count": 4,
   "metadata": {},
   "outputs": [],
   "source": [
    "import pandas as pd"
   ]
  },
  {
   "cell_type": "code",
   "execution_count": 27,
   "metadata": {},
   "outputs": [],
   "source": [
    "# import pyarrow.parquet as pq\n",
    "\n",
    "df = pd.read_parquet('https://d37ci6vzurychx.cloudfront.net/trip-data/yellow_tripdata_2023-01.parquet')\n",
    "# df = pd.read_parquet(, engine='pyarrow')"
   ]
  },
  {
   "cell_type": "code",
   "execution_count": 28,
   "metadata": {},
   "outputs": [
    {
     "data": {
      "text/plain": [
       "19"
      ]
     },
     "execution_count": 28,
     "metadata": {},
     "output_type": "execute_result"
    }
   ],
   "source": [
    "len(df.columns)"
   ]
  },
  {
   "cell_type": "code",
   "execution_count": 7,
   "metadata": {},
   "outputs": [],
   "source": [
    "df['duration'] = (df.tpep_dropoff_datetime - df.tpep_pickup_datetime).dt.total_seconds() / 60\n"
   ]
  },
  {
   "cell_type": "code",
   "execution_count": 8,
   "metadata": {},
   "outputs": [
    {
     "data": {
      "text/html": [
       "<div>\n",
       "<style scoped>\n",
       "    .dataframe tbody tr th:only-of-type {\n",
       "        vertical-align: middle;\n",
       "    }\n",
       "\n",
       "    .dataframe tbody tr th {\n",
       "        vertical-align: top;\n",
       "    }\n",
       "\n",
       "    .dataframe thead th {\n",
       "        text-align: right;\n",
       "    }\n",
       "</style>\n",
       "<table border=\"1\" class=\"dataframe\">\n",
       "  <thead>\n",
       "    <tr style=\"text-align: right;\">\n",
       "      <th></th>\n",
       "      <th>VendorID</th>\n",
       "      <th>tpep_pickup_datetime</th>\n",
       "      <th>tpep_dropoff_datetime</th>\n",
       "      <th>passenger_count</th>\n",
       "      <th>trip_distance</th>\n",
       "      <th>RatecodeID</th>\n",
       "      <th>store_and_fwd_flag</th>\n",
       "      <th>PULocationID</th>\n",
       "      <th>DOLocationID</th>\n",
       "      <th>payment_type</th>\n",
       "      <th>fare_amount</th>\n",
       "      <th>extra</th>\n",
       "      <th>mta_tax</th>\n",
       "      <th>tip_amount</th>\n",
       "      <th>tolls_amount</th>\n",
       "      <th>improvement_surcharge</th>\n",
       "      <th>total_amount</th>\n",
       "      <th>congestion_surcharge</th>\n",
       "      <th>airport_fee</th>\n",
       "      <th>duration</th>\n",
       "    </tr>\n",
       "  </thead>\n",
       "  <tbody>\n",
       "    <tr>\n",
       "      <th>1839180</th>\n",
       "      <td>1</td>\n",
       "      <td>2023-01-20 13:35:00</td>\n",
       "      <td>2023-01-20 13:05:48</td>\n",
       "      <td>1.0</td>\n",
       "      <td>0.8</td>\n",
       "      <td>99.0</td>\n",
       "      <td>N</td>\n",
       "      <td>227</td>\n",
       "      <td>14</td>\n",
       "      <td>1</td>\n",
       "      <td>16.5</td>\n",
       "      <td>0.0</td>\n",
       "      <td>0.5</td>\n",
       "      <td>0.0</td>\n",
       "      <td>0.0</td>\n",
       "      <td>1.0</td>\n",
       "      <td>18.0</td>\n",
       "      <td>0.0</td>\n",
       "      <td>0.0</td>\n",
       "      <td>-29.200000</td>\n",
       "    </tr>\n",
       "    <tr>\n",
       "      <th>2124414</th>\n",
       "      <td>1</td>\n",
       "      <td>2023-01-23 10:43:58</td>\n",
       "      <td>2023-01-23 10:29:26</td>\n",
       "      <td>1.0</td>\n",
       "      <td>2.4</td>\n",
       "      <td>99.0</td>\n",
       "      <td>N</td>\n",
       "      <td>102</td>\n",
       "      <td>82</td>\n",
       "      <td>1</td>\n",
       "      <td>21.5</td>\n",
       "      <td>0.0</td>\n",
       "      <td>0.5</td>\n",
       "      <td>0.0</td>\n",
       "      <td>0.0</td>\n",
       "      <td>1.0</td>\n",
       "      <td>23.0</td>\n",
       "      <td>0.0</td>\n",
       "      <td>0.0</td>\n",
       "      <td>-14.533333</td>\n",
       "    </tr>\n",
       "    <tr>\n",
       "      <th>2218504</th>\n",
       "      <td>1</td>\n",
       "      <td>2023-01-24 11:00:00</td>\n",
       "      <td>2023-01-24 10:40:48</td>\n",
       "      <td>1.0</td>\n",
       "      <td>0.4</td>\n",
       "      <td>99.0</td>\n",
       "      <td>N</td>\n",
       "      <td>247</td>\n",
       "      <td>169</td>\n",
       "      <td>1</td>\n",
       "      <td>15.5</td>\n",
       "      <td>0.0</td>\n",
       "      <td>0.5</td>\n",
       "      <td>0.0</td>\n",
       "      <td>0.0</td>\n",
       "      <td>1.0</td>\n",
       "      <td>17.0</td>\n",
       "      <td>0.0</td>\n",
       "      <td>0.0</td>\n",
       "      <td>-19.200000</td>\n",
       "    </tr>\n",
       "  </tbody>\n",
       "</table>\n",
       "</div>"
      ],
      "text/plain": [
       "         VendorID tpep_pickup_datetime tpep_dropoff_datetime  passenger_count  \\\n",
       "1839180         1  2023-01-20 13:35:00   2023-01-20 13:05:48              1.0   \n",
       "2124414         1  2023-01-23 10:43:58   2023-01-23 10:29:26              1.0   \n",
       "2218504         1  2023-01-24 11:00:00   2023-01-24 10:40:48              1.0   \n",
       "\n",
       "         trip_distance  RatecodeID store_and_fwd_flag  PULocationID  \\\n",
       "1839180            0.8        99.0                  N           227   \n",
       "2124414            2.4        99.0                  N           102   \n",
       "2218504            0.4        99.0                  N           247   \n",
       "\n",
       "         DOLocationID  payment_type  fare_amount  extra  mta_tax  tip_amount  \\\n",
       "1839180            14             1         16.5    0.0      0.5         0.0   \n",
       "2124414            82             1         21.5    0.0      0.5         0.0   \n",
       "2218504           169             1         15.5    0.0      0.5         0.0   \n",
       "\n",
       "         tolls_amount  improvement_surcharge  total_amount  \\\n",
       "1839180           0.0                    1.0          18.0   \n",
       "2124414           0.0                    1.0          23.0   \n",
       "2218504           0.0                    1.0          17.0   \n",
       "\n",
       "         congestion_surcharge  airport_fee   duration  \n",
       "1839180                   0.0          0.0 -29.200000  \n",
       "2124414                   0.0          0.0 -14.533333  \n",
       "2218504                   0.0          0.0 -19.200000  "
      ]
     },
     "execution_count": 8,
     "metadata": {},
     "output_type": "execute_result"
    }
   ],
   "source": [
    "df[df.tpep_dropoff_datetime < df.tpep_pickup_datetime]"
   ]
  },
  {
   "cell_type": "code",
   "execution_count": 9,
   "metadata": {},
   "outputs": [
    {
     "data": {
      "text/plain": [
       "count   3066766.00\n",
       "mean         15.67\n",
       "std          42.59\n",
       "min         -29.20\n",
       "25%           7.12\n",
       "50%          11.52\n",
       "75%          18.30\n",
       "max       10029.18\n",
       "Name: duration, dtype: float64"
      ]
     },
     "execution_count": 9,
     "metadata": {},
     "output_type": "execute_result"
    }
   ],
   "source": [
    "pd.set_option('display.float_format', '{:.2f}'.format)\n",
    "df.duration.describe()"
   ]
  },
  {
   "cell_type": "code",
   "execution_count": 10,
   "metadata": {},
   "outputs": [],
   "source": [
    "shape = df.shape[0]\n",
    "df = df[(df.duration<=60) & (df.duration>=1)]\n"
   ]
  },
  {
   "cell_type": "code",
   "execution_count": 11,
   "metadata": {},
   "outputs": [
    {
     "data": {
      "text/plain": [
       "0.9812202822125979"
      ]
     },
     "execution_count": 11,
     "metadata": {},
     "output_type": "execute_result"
    }
   ],
   "source": [
    "df.shape[0]/shape"
   ]
  },
  {
   "cell_type": "code",
   "execution_count": 12,
   "metadata": {},
   "outputs": [],
   "source": [
    "df = df[['duration', 'PULocationID', 'DOLocationID']]"
   ]
  },
  {
   "cell_type": "code",
   "execution_count": 13,
   "metadata": {},
   "outputs": [],
   "source": [
    "from sklearn.feature_extraction import DictVectorizer"
   ]
  },
  {
   "cell_type": "code",
   "execution_count": 14,
   "metadata": {},
   "outputs": [],
   "source": [
    "# Step 1: Convert the pickup and dropoff location IDs to strings (to avoid label encoding)\n",
    "df['PULocationID'] = df['PULocationID'].astype(str)\n",
    "df['DOLocationID'] = df['DOLocationID'].astype(str)\n",
    "\n",
    "# Step 2: Turn the DataFrame into a list of dictionaries, excluding the non-vectorized column\n",
    "data_dicts = df.loc[:df.shape[0]/10][['PULocationID', 'DOLocationID']].to_dict(orient='records')\n",
    "\n",
    "# Step 3: Fit the DictVectorizer and transform the data (only for the location ID columns)\n",
    "vectorizer = DictVectorizer(sparse=False)  # Set sparse=False if you want a dense matrix\n",
    "feature_matrix = vectorizer.fit_transform(data_dicts)"
   ]
  },
  {
   "cell_type": "code",
   "execution_count": 18,
   "metadata": {},
   "outputs": [
    {
     "data": {
      "text/plain": [
       "LinearRegression()"
      ]
     },
     "execution_count": 18,
     "metadata": {},
     "output_type": "execute_result"
    }
   ],
   "source": [
    "from sklearn.linear_model import LinearRegression\n",
    "from sklearn.metrics import mean_squared_error\n",
    "from sklearn.linear_model import SGDRegressor\n",
    "from sklearn.metrics import mean_squared_error\n",
    "from sklearn.model_selection import train_test_split\n",
    "\n",
    "X = feature_matrix\n",
    "y = df.loc[:df.shape[0]/10]['duration']\n",
    "\n",
    "model = LinearRegression()\n",
    "model.fit(X, y)\n"
   ]
  },
  {
   "cell_type": "code",
   "execution_count": 19,
   "metadata": {},
   "outputs": [
    {
     "name": "stdout",
     "output_type": "stream",
     "text": [
      "RMSE on train: 7.733\n"
     ]
    }
   ],
   "source": [
    "\n",
    "# Predict on training data\n",
    "y_pred = model.predict(X)\n",
    "\n",
    "# Calculate RMSE\n",
    "rmse = mean_squared_error(y, y_pred, squared=False)\n",
    "print(f\"RMSE on train: {rmse:.3f}\")"
   ]
  },
  {
   "cell_type": "code",
   "execution_count": 20,
   "metadata": {},
   "outputs": [],
   "source": [
    "df = pd.read_parquet('https://d37ci6vzurychx.cloudfront.net/trip-data/yellow_tripdata_2023-02.parquet')\n",
    "\n"
   ]
  },
  {
   "cell_type": "code",
   "execution_count": 21,
   "metadata": {},
   "outputs": [],
   "source": [
    "df['duration'] = (df.tpep_dropoff_datetime - df.tpep_pickup_datetime).dt.total_seconds() / 60\n",
    "df[df.tpep_dropoff_datetime < df.tpep_pickup_datetime]\n",
    "df = df[(df.duration<=60) & (df.duration>=1)]\n",
    "df = df[['duration', 'PULocationID', 'DOLocationID']]\n",
    "\n"
   ]
  },
  {
   "cell_type": "code",
   "execution_count": 22,
   "metadata": {},
   "outputs": [],
   "source": [
    "# Convert location IDs to strings for clearer dummy column names\n",
    "df['PULocationID'] = df['PULocationID'].astype(str)\n",
    "df['DOLocationID'] = df['DOLocationID'].astype(str)"
   ]
  },
  {
   "cell_type": "code",
   "execution_count": 23,
   "metadata": {},
   "outputs": [],
   "source": [
    "# Apply one-hot encoding separately to pickup and dropoff location IDs\n",
    "#pu_dummies = pd.get_dummies(df['PULocationID'], prefix='PU')\n",
    "#do_dummies = pd.get_dummies(df['DOLocationID'], prefix='DO')\n",
    "\n",
    "# Combine original 'duration' with the encoded features\n",
    "#df_encoded = pd.concat([df[['duration']], pu_dummies, do_dummies], axis=1)\n",
    "\n",
    "# Show the final encoded DataFrame\n",
    "#print(df_encoded.shape)"
   ]
  },
  {
   "cell_type": "code",
   "execution_count": 24,
   "metadata": {},
   "outputs": [],
   "source": [
    "# Step 2: Turn the DataFrame into a list of dictionaries, excluding the non-vectorized column\n",
    "data_dicts = df.loc[:df.shape[0]/5][['PULocationID', 'DOLocationID']].to_dict(orient='records')\n",
    "\n",
    "# Step 3: Fit the DictVectorizer and transform the data (only for the location ID columns)\n",
    "feature_matrix = vectorizer.transform(data_dicts)"
   ]
  },
  {
   "cell_type": "code",
   "execution_count": 25,
   "metadata": {},
   "outputs": [
    {
     "name": "stdout",
     "output_type": "stream",
     "text": [
      "RMSE on test: 1502778648.604\n"
     ]
    }
   ],
   "source": [
    "X = feature_matrix\n",
    "y = df.loc[:df.shape[0]/5]['duration']\n",
    "\n",
    "y_pred = model.predict(X)\n",
    "\n",
    "# Calculate RMSE\n",
    "rmse = mean_squared_error(y, y_pred, squared=False)\n",
    "print(f\"RMSE on test: {rmse:.3f}\")"
   ]
  },
  {
   "cell_type": "code",
   "execution_count": null,
   "metadata": {},
   "outputs": [],
   "source": []
  }
 ],
 "metadata": {
  "kernelspec": {
   "display_name": "Python 3 (ipykernel)",
   "language": "python",
   "name": "python3"
  },
  "language_info": {
   "codemirror_mode": {
    "name": "ipython",
    "version": 3
   },
   "file_extension": ".py",
   "mimetype": "text/x-python",
   "name": "python",
   "nbconvert_exporter": "python",
   "pygments_lexer": "ipython3",
   "version": "3.9.12"
  }
 },
 "nbformat": 4,
 "nbformat_minor": 2
}
